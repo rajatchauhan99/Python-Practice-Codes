{
 "cells": [
  {
   "cell_type": "code",
   "execution_count": 16,
   "id": "597baae3",
   "metadata": {},
   "outputs": [],
   "source": [
    "from bs4 import BeautifulSoup"
   ]
  },
  {
   "cell_type": "code",
   "execution_count": 17,
   "id": "61bfdfb5",
   "metadata": {},
   "outputs": [
    {
     "data": {
      "text/plain": [
       "bs4.BeautifulSoup"
      ]
     },
     "execution_count": 17,
     "metadata": {},
     "output_type": "execute_result"
    }
   ],
   "source": [
    "BeautifulSoup"
   ]
  },
  {
   "cell_type": "markdown",
   "id": "1338fe52",
   "metadata": {},
   "source": [
    "opening a html file from a local drive"
   ]
  },
  {
   "cell_type": "code",
   "execution_count": null,
   "id": "94f68bc8",
   "metadata": {},
   "outputs": [],
   "source": [
    "with open('home.html','r') as html_file:\n",
    "    \n",
    "content = html_file.read()"
   ]
  },
  {
   "cell_type": "markdown",
   "id": "0eab7336",
   "metadata": {},
   "source": [
    "using beautifulsoup library to create a soup object reading the content of content file"
   ]
  },
  {
   "cell_type": "code",
   "execution_count": null,
   "id": "ccfdc95a",
   "metadata": {},
   "outputs": [],
   "source": [
    "soup = beautifulsoup(content, 'lxml')\n",
    "\n",
    "# the parser used here is lxml"
   ]
  },
  {
   "cell_type": "code",
   "execution_count": null,
   "id": "d17d644b",
   "metadata": {},
   "outputs": [],
   "source": [
    "# find method finds the tag required, here we are able to find out the h5 tag,\n",
    "\n",
    "find only retuns the first tag it find out\n",
    "\n",
    "tags = soup.find('h5')\n",
    "\n",
    "print(tags)"
   ]
  },
  {
   "cell_type": "code",
   "execution_count": null,
   "id": "a50b1e6d",
   "metadata": {},
   "outputs": [],
   "source": [
    " # to print all the h5 heading tags we use find all\n",
    "    # this creates a list of all tags stored in the object course_html_tags\n",
    "    course_html_tags = soup.find_all('h5')"
   ]
  },
  {
   "cell_type": "markdown",
   "id": "90dec1d1",
   "metadata": {},
   "source": [
    "this gives a list of all the h5 tags in the HTML document"
   ]
  },
  {
   "cell_type": "code",
   "execution_count": null,
   "id": "3d13fad5",
   "metadata": {},
   "outputs": [],
   "source": [
    "# now we can print only the text as required from the items of this list.\n",
    "\n",
    "for course in course_html_tags:\n",
    "    print(course.text)\n"
   ]
  },
  {
   "cell_type": "code",
   "execution_count": 18,
   "id": "e3c3ef12",
   "metadata": {},
   "outputs": [],
   "source": []
  },
  {
   "cell_type": "code",
   "execution_count": null,
   "id": "525dfacc",
   "metadata": {},
   "outputs": [],
   "source": []
  }
 ],
 "metadata": {
  "kernelspec": {
   "display_name": "Python 3 (ipykernel)",
   "language": "python",
   "name": "python3"
  },
  "language_info": {
   "codemirror_mode": {
    "name": "ipython",
    "version": 3
   },
   "file_extension": ".py",
   "mimetype": "text/x-python",
   "name": "python",
   "nbconvert_exporter": "python",
   "pygments_lexer": "ipython3",
   "version": "3.9.12"
  }
 },
 "nbformat": 4,
 "nbformat_minor": 5
}
